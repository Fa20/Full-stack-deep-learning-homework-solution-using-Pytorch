{
  "nbformat": 4,
  "nbformat_minor": 0,
  "metadata": {
    "colab": {
      "provenance": [],
      "authorship_tag": "ABX9TyN+SSXhtZndIeJV/YLWBvmG"
    },
    "kernelspec": {
      "name": "python3",
      "display_name": "Python 3"
    },
    "language_info": {
      "name": "python"
    },
    "accelerator": "GPU"
  },
  "cells": [
    {
      "cell_type": "code",
      "execution_count": 1,
      "metadata": {
        "colab": {
          "base_uri": "https://localhost:8080/"
        },
        "id": "aFFN52CAxPNx",
        "outputId": "78a3c9a8-bec4-48ef-acde-630170d38e53"
      },
      "outputs": [
        {
          "output_type": "stream",
          "name": "stdout",
          "text": [
            "Mon Oct  3 08:52:08 2022       \n",
            "+-----------------------------------------------------------------------------+\n",
            "| NVIDIA-SMI 460.32.03    Driver Version: 460.32.03    CUDA Version: 11.2     |\n",
            "|-------------------------------+----------------------+----------------------+\n",
            "| GPU  Name        Persistence-M| Bus-Id        Disp.A | Volatile Uncorr. ECC |\n",
            "| Fan  Temp  Perf  Pwr:Usage/Cap|         Memory-Usage | GPU-Util  Compute M. |\n",
            "|                               |                      |               MIG M. |\n",
            "|===============================+======================+======================|\n",
            "|   0  Tesla T4            Off  | 00000000:00:04.0 Off |                    0 |\n",
            "| N/A   56C    P8    11W /  70W |      0MiB / 15109MiB |      0%      Default |\n",
            "|                               |                      |                  N/A |\n",
            "+-------------------------------+----------------------+----------------------+\n",
            "                                                                               \n",
            "+-----------------------------------------------------------------------------+\n",
            "| Processes:                                                                  |\n",
            "|  GPU   GI   CI        PID   Type   Process name                  GPU Memory |\n",
            "|        ID   ID                                                   Usage      |\n",
            "|=============================================================================|\n",
            "|  No running processes found                                                 |\n",
            "+-----------------------------------------------------------------------------+\n"
          ]
        }
      ],
      "source": [
        "!nvidia-smi"
      ]
    },
    {
      "cell_type": "code",
      "source": [
        "# FSDL Spring 2021 Setup\n",
        "!git clone https://github.com/full-stack-deep-learning/fsdl-text-recognizer-2021-labs\n",
        "%cd fsdl-text-recognizer-2021-labs\n",
        "!pip3 install boltons wandb pytorch_lightning==1.1.4 pip install torch==1.7.1+cu110 torchvision==0.8.2+cu110 torchaudio==0.7.2 torchtext==0.8.1 -f https://download.pytorch.org/whl/torch_stable.html\n",
        "%env PYTHONPATH=.:$PYTHONPATH"
      ],
      "metadata": {
        "colab": {
          "base_uri": "https://localhost:8080/"
        },
        "id": "444RccPfxSne",
        "outputId": "f09219ce-781e-488c-8ac4-6e8556f57689"
      },
      "execution_count": 2,
      "outputs": [
        {
          "output_type": "stream",
          "name": "stdout",
          "text": [
            "Cloning into 'fsdl-text-recognizer-2021-labs'...\n",
            "remote: Enumerating objects: 798, done.\u001b[K\n",
            "remote: Counting objects: 100% (320/320), done.\u001b[K\n",
            "remote: Compressing objects: 100% (121/121), done.\u001b[K\n",
            "remote: Total 798 (delta 222), reused 199 (delta 199), pack-reused 478\u001b[K\n",
            "Receiving objects: 100% (798/798), 18.85 MiB | 33.06 MiB/s, done.\n",
            "Resolving deltas: 100% (397/397), done.\n",
            "/content/fsdl-text-recognizer-2021-labs\n",
            "Looking in indexes: https://pypi.org/simple, https://us-python.pkg.dev/colab-wheels/public/simple/\n",
            "Looking in links: https://download.pytorch.org/whl/torch_stable.html\n",
            "Collecting boltons\n",
            "  Downloading boltons-21.0.0-py2.py3-none-any.whl (193 kB)\n",
            "\u001b[K     |████████████████████████████████| 193 kB 5.0 MB/s \n",
            "\u001b[?25hCollecting wandb\n",
            "  Downloading wandb-0.13.3-py2.py3-none-any.whl (1.8 MB)\n",
            "\u001b[K     |████████████████████████████████| 1.8 MB 55.6 MB/s \n",
            "\u001b[?25hCollecting pytorch_lightning==1.1.4\n",
            "  Downloading pytorch_lightning-1.1.4-py3-none-any.whl (684 kB)\n",
            "\u001b[K     |████████████████████████████████| 684 kB 58.1 MB/s \n",
            "\u001b[?25hRequirement already satisfied: pip in /usr/local/lib/python3.7/dist-packages (21.1.3)\n",
            "Collecting install\n",
            "  Downloading install-1.3.5-py3-none-any.whl (3.2 kB)\n",
            "Collecting torch==1.7.1+cu110\n",
            "  Downloading https://download.pytorch.org/whl/cu110/torch-1.7.1%2Bcu110-cp37-cp37m-linux_x86_64.whl (1156.8 MB)\n",
            "\u001b[K     |███████████████████████         | 834.1 MB 1.2 MB/s eta 0:04:22tcmalloc: large alloc 1147494400 bytes == 0x39258000 @  0x7fcb80bb9615 0x58e046 0x4f2e5e 0x4d19df 0x51b31c 0x5b41c5 0x58f49e 0x51b221 0x5b41c5 0x58f49e 0x51837f 0x4cfabb 0x517aa0 0x4cfabb 0x517aa0 0x4cfabb 0x517aa0 0x4ba70a 0x538136 0x590055 0x51b180 0x5b41c5 0x58f49e 0x51837f 0x5b41c5 0x58f49e 0x51740e 0x58f2a7 0x517947 0x5b41c5 0x58f49e\n",
            "\u001b[K     |█████████████████████████████▏  | 1055.7 MB 1.3 MB/s eta 0:01:19tcmalloc: large alloc 1434370048 bytes == 0x7d8ae000 @  0x7fcb80bb9615 0x58e046 0x4f2e5e 0x4d19df 0x51b31c 0x5b41c5 0x58f49e 0x51b221 0x5b41c5 0x58f49e 0x51837f 0x4cfabb 0x517aa0 0x4cfabb 0x517aa0 0x4cfabb 0x517aa0 0x4ba70a 0x538136 0x590055 0x51b180 0x5b41c5 0x58f49e 0x51837f 0x5b41c5 0x58f49e 0x51740e 0x58f2a7 0x517947 0x5b41c5 0x58f49e\n",
            "\u001b[K     |████████████████████████████████| 1156.7 MB 1.2 MB/s eta 0:00:01tcmalloc: large alloc 1445945344 bytes == 0xd309a000 @  0x7fcb80bb9615 0x58e046 0x4f2e5e 0x4d19df 0x51b31c 0x5b41c5 0x58f49e 0x517947 0x5b41c5 0x58f49e 0x517947 0x5b41c5 0x58f49e 0x517947 0x5b41c5 0x58f49e 0x517947 0x5b41c5 0x58f49e 0x517947 0x58f2a7 0x517947 0x5b41c5 0x58f49e 0x51837f 0x5b41c5 0x58f49e 0x51837f 0x5b41c5 0x4ba899 0x4d29f9\n",
            "\u001b[K     |████████████████████████████████| 1156.8 MB 14 kB/s \n",
            "\u001b[?25hCollecting torchvision==0.8.2+cu110\n",
            "  Downloading https://download.pytorch.org/whl/cu110/torchvision-0.8.2%2Bcu110-cp37-cp37m-linux_x86_64.whl (12.9 MB)\n",
            "\u001b[K     |████████████████████████████████| 12.9 MB 44.5 MB/s \n",
            "\u001b[?25hCollecting torchaudio==0.7.2\n",
            "  Downloading torchaudio-0.7.2-cp37-cp37m-manylinux1_x86_64.whl (7.6 MB)\n",
            "\u001b[K     |████████████████████████████████| 7.6 MB 23.8 MB/s \n",
            "\u001b[?25hCollecting torchtext==0.8.1\n",
            "  Downloading torchtext-0.8.1-cp37-cp37m-manylinux1_x86_64.whl (7.0 MB)\n",
            "\u001b[K     |████████████████████████████████| 7.0 MB 3.4 MB/s \n",
            "\u001b[?25hRequirement already satisfied: tensorboard>=2.2.0 in /usr/local/lib/python3.7/dist-packages (from pytorch_lightning==1.1.4) (2.8.0)\n",
            "Requirement already satisfied: numpy>=1.16.6 in /usr/local/lib/python3.7/dist-packages (from pytorch_lightning==1.1.4) (1.21.6)\n",
            "Collecting future>=0.17.1\n",
            "  Downloading future-0.18.2.tar.gz (829 kB)\n",
            "\u001b[K     |████████████████████████████████| 829 kB 53.2 MB/s \n",
            "\u001b[?25hRequirement already satisfied: fsspec[http]>=0.8.1 in /usr/local/lib/python3.7/dist-packages (from pytorch_lightning==1.1.4) (2022.8.2)\n",
            "Requirement already satisfied: tqdm>=4.41.0 in /usr/local/lib/python3.7/dist-packages (from pytorch_lightning==1.1.4) (4.64.1)\n",
            "Requirement already satisfied: PyYAML>=5.1 in /usr/local/lib/python3.7/dist-packages (from pytorch_lightning==1.1.4) (6.0)\n",
            "Requirement already satisfied: typing-extensions in /usr/local/lib/python3.7/dist-packages (from torch==1.7.1+cu110) (4.1.1)\n",
            "Requirement already satisfied: pillow>=4.1.1 in /usr/local/lib/python3.7/dist-packages (from torchvision==0.8.2+cu110) (7.1.2)\n",
            "Requirement already satisfied: requests in /usr/local/lib/python3.7/dist-packages (from torchtext==0.8.1) (2.23.0)\n",
            "Requirement already satisfied: aiohttp!=4.0.0a0,!=4.0.0a1 in /usr/local/lib/python3.7/dist-packages (from fsspec[http]>=0.8.1->pytorch_lightning==1.1.4) (3.8.1)\n",
            "Requirement already satisfied: frozenlist>=1.1.1 in /usr/local/lib/python3.7/dist-packages (from aiohttp!=4.0.0a0,!=4.0.0a1->fsspec[http]>=0.8.1->pytorch_lightning==1.1.4) (1.3.1)\n",
            "Requirement already satisfied: async-timeout<5.0,>=4.0.0a3 in /usr/local/lib/python3.7/dist-packages (from aiohttp!=4.0.0a0,!=4.0.0a1->fsspec[http]>=0.8.1->pytorch_lightning==1.1.4) (4.0.2)\n",
            "Requirement already satisfied: asynctest==0.13.0 in /usr/local/lib/python3.7/dist-packages (from aiohttp!=4.0.0a0,!=4.0.0a1->fsspec[http]>=0.8.1->pytorch_lightning==1.1.4) (0.13.0)\n",
            "Requirement already satisfied: charset-normalizer<3.0,>=2.0 in /usr/local/lib/python3.7/dist-packages (from aiohttp!=4.0.0a0,!=4.0.0a1->fsspec[http]>=0.8.1->pytorch_lightning==1.1.4) (2.1.1)\n",
            "Requirement already satisfied: multidict<7.0,>=4.5 in /usr/local/lib/python3.7/dist-packages (from aiohttp!=4.0.0a0,!=4.0.0a1->fsspec[http]>=0.8.1->pytorch_lightning==1.1.4) (6.0.2)\n",
            "Requirement already satisfied: attrs>=17.3.0 in /usr/local/lib/python3.7/dist-packages (from aiohttp!=4.0.0a0,!=4.0.0a1->fsspec[http]>=0.8.1->pytorch_lightning==1.1.4) (22.1.0)\n",
            "Requirement already satisfied: aiosignal>=1.1.2 in /usr/local/lib/python3.7/dist-packages (from aiohttp!=4.0.0a0,!=4.0.0a1->fsspec[http]>=0.8.1->pytorch_lightning==1.1.4) (1.2.0)\n",
            "Requirement already satisfied: yarl<2.0,>=1.0 in /usr/local/lib/python3.7/dist-packages (from aiohttp!=4.0.0a0,!=4.0.0a1->fsspec[http]>=0.8.1->pytorch_lightning==1.1.4) (1.8.1)\n",
            "Requirement already satisfied: grpcio>=1.24.3 in /usr/local/lib/python3.7/dist-packages (from tensorboard>=2.2.0->pytorch_lightning==1.1.4) (1.48.1)\n",
            "Requirement already satisfied: google-auth-oauthlib<0.5,>=0.4.1 in /usr/local/lib/python3.7/dist-packages (from tensorboard>=2.2.0->pytorch_lightning==1.1.4) (0.4.6)\n",
            "Requirement already satisfied: google-auth<3,>=1.6.3 in /usr/local/lib/python3.7/dist-packages (from tensorboard>=2.2.0->pytorch_lightning==1.1.4) (1.35.0)\n",
            "Requirement already satisfied: absl-py>=0.4 in /usr/local/lib/python3.7/dist-packages (from tensorboard>=2.2.0->pytorch_lightning==1.1.4) (1.2.0)\n",
            "Requirement already satisfied: setuptools>=41.0.0 in /usr/local/lib/python3.7/dist-packages (from tensorboard>=2.2.0->pytorch_lightning==1.1.4) (57.4.0)\n",
            "Requirement already satisfied: markdown>=2.6.8 in /usr/local/lib/python3.7/dist-packages (from tensorboard>=2.2.0->pytorch_lightning==1.1.4) (3.4.1)\n",
            "Requirement already satisfied: tensorboard-plugin-wit>=1.6.0 in /usr/local/lib/python3.7/dist-packages (from tensorboard>=2.2.0->pytorch_lightning==1.1.4) (1.8.1)\n",
            "Requirement already satisfied: wheel>=0.26 in /usr/local/lib/python3.7/dist-packages (from tensorboard>=2.2.0->pytorch_lightning==1.1.4) (0.37.1)\n",
            "Requirement already satisfied: protobuf>=3.6.0 in /usr/local/lib/python3.7/dist-packages (from tensorboard>=2.2.0->pytorch_lightning==1.1.4) (3.17.3)\n",
            "Requirement already satisfied: werkzeug>=0.11.15 in /usr/local/lib/python3.7/dist-packages (from tensorboard>=2.2.0->pytorch_lightning==1.1.4) (1.0.1)\n",
            "Requirement already satisfied: tensorboard-data-server<0.7.0,>=0.6.0 in /usr/local/lib/python3.7/dist-packages (from tensorboard>=2.2.0->pytorch_lightning==1.1.4) (0.6.1)\n",
            "Requirement already satisfied: cachetools<5.0,>=2.0.0 in /usr/local/lib/python3.7/dist-packages (from google-auth<3,>=1.6.3->tensorboard>=2.2.0->pytorch_lightning==1.1.4) (4.2.4)\n",
            "Requirement already satisfied: six>=1.9.0 in /usr/local/lib/python3.7/dist-packages (from google-auth<3,>=1.6.3->tensorboard>=2.2.0->pytorch_lightning==1.1.4) (1.15.0)\n",
            "Requirement already satisfied: pyasn1-modules>=0.2.1 in /usr/local/lib/python3.7/dist-packages (from google-auth<3,>=1.6.3->tensorboard>=2.2.0->pytorch_lightning==1.1.4) (0.2.8)\n",
            "Requirement already satisfied: rsa<5,>=3.1.4 in /usr/local/lib/python3.7/dist-packages (from google-auth<3,>=1.6.3->tensorboard>=2.2.0->pytorch_lightning==1.1.4) (4.9)\n",
            "Requirement already satisfied: requests-oauthlib>=0.7.0 in /usr/local/lib/python3.7/dist-packages (from google-auth-oauthlib<0.5,>=0.4.1->tensorboard>=2.2.0->pytorch_lightning==1.1.4) (1.3.1)\n",
            "Requirement already satisfied: importlib-metadata>=4.4 in /usr/local/lib/python3.7/dist-packages (from markdown>=2.6.8->tensorboard>=2.2.0->pytorch_lightning==1.1.4) (4.12.0)\n",
            "Requirement already satisfied: zipp>=0.5 in /usr/local/lib/python3.7/dist-packages (from importlib-metadata>=4.4->markdown>=2.6.8->tensorboard>=2.2.0->pytorch_lightning==1.1.4) (3.8.1)\n",
            "Requirement already satisfied: pyasn1<0.5.0,>=0.4.6 in /usr/local/lib/python3.7/dist-packages (from pyasn1-modules>=0.2.1->google-auth<3,>=1.6.3->tensorboard>=2.2.0->pytorch_lightning==1.1.4) (0.4.8)\n",
            "Requirement already satisfied: certifi>=2017.4.17 in /usr/local/lib/python3.7/dist-packages (from requests->torchtext==0.8.1) (2022.6.15)\n",
            "Requirement already satisfied: idna<3,>=2.5 in /usr/local/lib/python3.7/dist-packages (from requests->torchtext==0.8.1) (2.10)\n",
            "Requirement already satisfied: chardet<4,>=3.0.2 in /usr/local/lib/python3.7/dist-packages (from requests->torchtext==0.8.1) (3.0.4)\n",
            "Requirement already satisfied: urllib3!=1.25.0,!=1.25.1,<1.26,>=1.21.1 in /usr/local/lib/python3.7/dist-packages (from requests->torchtext==0.8.1) (1.24.3)\n",
            "Requirement already satisfied: oauthlib>=3.0.0 in /usr/local/lib/python3.7/dist-packages (from requests-oauthlib>=0.7.0->google-auth-oauthlib<0.5,>=0.4.1->tensorboard>=2.2.0->pytorch_lightning==1.1.4) (3.2.0)\n",
            "Collecting GitPython>=1.0.0\n",
            "  Downloading GitPython-3.1.27-py3-none-any.whl (181 kB)\n",
            "\u001b[K     |████████████████████████████████| 181 kB 67.0 MB/s \n",
            "\u001b[?25hCollecting docker-pycreds>=0.4.0\n",
            "  Downloading docker_pycreds-0.4.0-py2.py3-none-any.whl (9.0 kB)\n",
            "Requirement already satisfied: psutil>=5.0.0 in /usr/local/lib/python3.7/dist-packages (from wandb) (5.4.8)\n",
            "Requirement already satisfied: promise<3,>=2.0 in /usr/local/lib/python3.7/dist-packages (from wandb) (2.3)\n",
            "Requirement already satisfied: Click!=8.0.0,>=7.0 in /usr/local/lib/python3.7/dist-packages (from wandb) (7.1.2)\n",
            "Collecting shortuuid>=0.5.0\n",
            "  Downloading shortuuid-1.0.9-py3-none-any.whl (9.4 kB)\n",
            "Collecting sentry-sdk>=1.0.0\n",
            "  Downloading sentry_sdk-1.9.9-py2.py3-none-any.whl (162 kB)\n",
            "\u001b[K     |████████████████████████████████| 162 kB 51.9 MB/s \n",
            "\u001b[?25hCollecting pathtools\n",
            "  Downloading pathtools-0.1.2.tar.gz (11 kB)\n",
            "Collecting setproctitle\n",
            "  Downloading setproctitle-1.3.2-cp37-cp37m-manylinux_2_5_x86_64.manylinux1_x86_64.manylinux_2_17_x86_64.manylinux2014_x86_64.whl (30 kB)\n",
            "Collecting gitdb<5,>=4.0.1\n",
            "  Downloading gitdb-4.0.9-py3-none-any.whl (63 kB)\n",
            "\u001b[K     |████████████████████████████████| 63 kB 1.9 MB/s \n",
            "\u001b[?25hCollecting smmap<6,>=3.0.1\n",
            "  Downloading smmap-5.0.0-py3-none-any.whl (24 kB)\n",
            "Collecting sentry-sdk>=1.0.0\n",
            "  Downloading sentry_sdk-1.9.8-py2.py3-none-any.whl (158 kB)\n",
            "\u001b[K     |████████████████████████████████| 158 kB 55.9 MB/s \n",
            "\u001b[?25h  Downloading sentry_sdk-1.9.7-py2.py3-none-any.whl (157 kB)\n",
            "\u001b[K     |████████████████████████████████| 157 kB 73.6 MB/s \n",
            "\u001b[?25h  Downloading sentry_sdk-1.9.6-py2.py3-none-any.whl (157 kB)\n",
            "\u001b[K     |████████████████████████████████| 157 kB 61.3 MB/s \n",
            "\u001b[?25h  Downloading sentry_sdk-1.9.5-py2.py3-none-any.whl (157 kB)\n",
            "\u001b[K     |████████████████████████████████| 157 kB 68.4 MB/s \n",
            "\u001b[?25h  Downloading sentry_sdk-1.9.4-py2.py3-none-any.whl (157 kB)\n",
            "\u001b[K     |████████████████████████████████| 157 kB 73.0 MB/s \n",
            "\u001b[?25h  Downloading sentry_sdk-1.9.3-py2.py3-none-any.whl (157 kB)\n",
            "\u001b[K     |████████████████████████████████| 157 kB 51.8 MB/s \n",
            "\u001b[?25h  Downloading sentry_sdk-1.9.2-py2.py3-none-any.whl (157 kB)\n",
            "\u001b[K     |████████████████████████████████| 157 kB 63.0 MB/s \n",
            "\u001b[?25h  Downloading sentry_sdk-1.9.1-py2.py3-none-any.whl (157 kB)\n",
            "\u001b[K     |████████████████████████████████| 157 kB 73.2 MB/s \n",
            "\u001b[?25h  Downloading sentry_sdk-1.9.0-py2.py3-none-any.whl (156 kB)\n",
            "\u001b[K     |████████████████████████████████| 156 kB 67.5 MB/s \n",
            "\u001b[?25hBuilding wheels for collected packages: future, pathtools\n",
            "  Building wheel for future (setup.py) ... \u001b[?25l\u001b[?25hdone\n",
            "  Created wheel for future: filename=future-0.18.2-py3-none-any.whl size=491070 sha256=a17625de24a053fa60c8de62b835d546d6cda8045531ae60c75cbaeda29b1345\n",
            "  Stored in directory: /root/.cache/pip/wheels/56/b0/fe/4410d17b32f1f0c3cf54cdfb2bc04d7b4b8f4ae377e2229ba0\n",
            "  Building wheel for pathtools (setup.py) ... \u001b[?25l\u001b[?25hdone\n",
            "  Created wheel for pathtools: filename=pathtools-0.1.2-py3-none-any.whl size=8806 sha256=4983bd929bb12afbfda5d96356ed77612a42d6d4ad3d1640ca44c52b822de7e8\n",
            "  Stored in directory: /root/.cache/pip/wheels/3e/31/09/fa59cef12cdcfecc627b3d24273699f390e71828921b2cbba2\n",
            "Successfully built future pathtools\n",
            "Installing collected packages: smmap, gitdb, torch, shortuuid, setproctitle, sentry-sdk, pathtools, GitPython, future, docker-pycreds, wandb, torchvision, torchtext, torchaudio, pytorch-lightning, install, boltons\n",
            "  Attempting uninstall: torch\n",
            "    Found existing installation: torch 1.12.1+cu113\n",
            "    Uninstalling torch-1.12.1+cu113:\n",
            "      Successfully uninstalled torch-1.12.1+cu113\n",
            "  Attempting uninstall: future\n",
            "    Found existing installation: future 0.16.0\n",
            "    Uninstalling future-0.16.0:\n",
            "      Successfully uninstalled future-0.16.0\n",
            "  Attempting uninstall: torchvision\n",
            "    Found existing installation: torchvision 0.13.1+cu113\n",
            "    Uninstalling torchvision-0.13.1+cu113:\n",
            "      Successfully uninstalled torchvision-0.13.1+cu113\n",
            "  Attempting uninstall: torchtext\n",
            "    Found existing installation: torchtext 0.13.1\n",
            "    Uninstalling torchtext-0.13.1:\n",
            "      Successfully uninstalled torchtext-0.13.1\n",
            "  Attempting uninstall: torchaudio\n",
            "    Found existing installation: torchaudio 0.12.1+cu113\n",
            "    Uninstalling torchaudio-0.12.1+cu113:\n",
            "      Successfully uninstalled torchaudio-0.12.1+cu113\n",
            "Successfully installed GitPython-3.1.27 boltons-21.0.0 docker-pycreds-0.4.0 future-0.18.2 gitdb-4.0.9 install-1.3.5 pathtools-0.1.2 pytorch-lightning-1.1.4 sentry-sdk-1.9.0 setproctitle-1.3.2 shortuuid-1.0.9 smmap-5.0.0 torch-1.7.1+cu110 torchaudio-0.7.2 torchtext-0.8.1 torchvision-0.8.2+cu110 wandb-0.13.3\n",
            "env: PYTHONPATH=.:$PYTHONPATH\n"
          ]
        }
      ]
    },
    {
      "cell_type": "code",
      "source": [
        "cd lab1"
      ],
      "metadata": {
        "colab": {
          "base_uri": "https://localhost:8080/"
        },
        "id": "ZyKkK5G7xahJ",
        "outputId": "216c48a7-2dda-48bb-dc16-c31a2a7d449e"
      },
      "execution_count": 3,
      "outputs": [
        {
          "output_type": "stream",
          "name": "stdout",
          "text": [
            "/content/fsdl-text-recognizer-2021-labs/lab1\n"
          ]
        }
      ]
    },
    {
      "cell_type": "code",
      "source": [
        "cd ..\n"
      ],
      "metadata": {
        "colab": {
          "base_uri": "https://localhost:8080/"
        },
        "id": "F27t5ZGODmsL",
        "outputId": "732ad9cc-5513-4133-c781-708b8b357ff6"
      },
      "execution_count": 4,
      "outputs": [
        {
          "output_type": "stream",
          "name": "stdout",
          "text": [
            "/content/fsdl-text-recognizer-2021-labs\n"
          ]
        }
      ]
    },
    {
      "cell_type": "code",
      "source": [
        "cd lab1/"
      ],
      "metadata": {
        "colab": {
          "base_uri": "https://localhost:8080/"
        },
        "id": "0rxoLPr3EPZ8",
        "outputId": "8fbd4426-5dcc-4ee1-b8ac-6be0c23eba27"
      },
      "execution_count": 7,
      "outputs": [
        {
          "output_type": "stream",
          "name": "stdout",
          "text": [
            "/content/fsdl-text-recognizer-2021-labs/lab1\n"
          ]
        }
      ]
    },
    {
      "cell_type": "code",
      "source": [
        "!python training/run_experiment.py --max_epochs=3"
      ],
      "metadata": {
        "colab": {
          "base_uri": "https://localhost:8080/"
        },
        "id": "yctJmnnBFp55",
        "outputId": "40824657-ce32-4077-8375-e71842318a1e"
      },
      "execution_count": 9,
      "outputs": [
        {
          "output_type": "stream",
          "name": "stdout",
          "text": [
            "/usr/local/lib/python3.7/dist-packages/pytorch_lightning/utilities/distributed.py:49: UserWarning: You have set progress_bar_refresh_rate < 20 on Google Colab. This may crash. Consider using progress_bar_refresh_rate >= 20 in Trainer.\n",
            "  warnings.warn(*args, **kwargs)\n",
            "GPU available: True, used: False\n",
            "TPU available: None, using: 0 TPU cores\n",
            "/usr/local/lib/python3.7/dist-packages/pytorch_lightning/utilities/distributed.py:49: UserWarning: GPU available but not used. Set the --gpus flag when calling the script.\n",
            "  warnings.warn(*args, **kwargs)\n",
            "Downloading http://yann.lecun.com/exdb/mnist/train-images-idx3-ubyte.gz to /content/fsdl-text-recognizer-2021-labs/data/downloaded/MNIST/raw/train-images-idx3-ubyte.gz\n",
            "9920512it [00:00, 46847366.08it/s]                 \n",
            "Extracting /content/fsdl-text-recognizer-2021-labs/data/downloaded/MNIST/raw/train-images-idx3-ubyte.gz to /content/fsdl-text-recognizer-2021-labs/data/downloaded/MNIST/raw\n",
            "Downloading http://yann.lecun.com/exdb/mnist/train-labels-idx1-ubyte.gz to /content/fsdl-text-recognizer-2021-labs/data/downloaded/MNIST/raw/train-labels-idx1-ubyte.gz\n",
            "32768it [00:00, 713197.97it/s]\n",
            "Extracting /content/fsdl-text-recognizer-2021-labs/data/downloaded/MNIST/raw/train-labels-idx1-ubyte.gz to /content/fsdl-text-recognizer-2021-labs/data/downloaded/MNIST/raw\n",
            "Downloading http://yann.lecun.com/exdb/mnist/t10k-images-idx3-ubyte.gz to /content/fsdl-text-recognizer-2021-labs/data/downloaded/MNIST/raw/t10k-images-idx3-ubyte.gz\n",
            "1654784it [00:00, 16507828.93it/s]\n",
            "Extracting /content/fsdl-text-recognizer-2021-labs/data/downloaded/MNIST/raw/t10k-images-idx3-ubyte.gz to /content/fsdl-text-recognizer-2021-labs/data/downloaded/MNIST/raw\n",
            "Downloading http://yann.lecun.com/exdb/mnist/t10k-labels-idx1-ubyte.gz to /content/fsdl-text-recognizer-2021-labs/data/downloaded/MNIST/raw/t10k-labels-idx1-ubyte.gz\n",
            "8192it [00:00, 193487.70it/s]\n",
            "Extracting /content/fsdl-text-recognizer-2021-labs/data/downloaded/MNIST/raw/t10k-labels-idx1-ubyte.gz to /content/fsdl-text-recognizer-2021-labs/data/downloaded/MNIST/raw\n",
            "Processing...\n",
            "/usr/local/lib/python3.7/dist-packages/torchvision/datasets/mnist.py:480: UserWarning: The given NumPy array is not writeable, and PyTorch does not support non-writeable tensors. This means you can write to the underlying (supposedly non-writeable) NumPy array using the tensor. You may want to copy the array to protect its data or make it writeable before converting it to a tensor. This type of warning will be suppressed for the rest of this program. (Triggered internally at  /pytorch/torch/csrc/utils/tensor_numpy.cpp:141.)\n",
            "  return torch.from_numpy(parsed.astype(m[2], copy=False)).view(*s)\n",
            "Done!\n",
            "\n",
            "  | Name          | Type     | Params\n",
            "-------------------------------------------\n",
            "0 | model         | MLP      | 936 K \n",
            "1 | model.dropout | Dropout  | 0     \n",
            "2 | model.fc1     | Linear   | 803 K \n",
            "3 | model.fc2     | Linear   | 131 K \n",
            "4 | model.fc3     | Linear   | 1.3 K \n",
            "5 | train_acc     | Accuracy | 0     \n",
            "6 | val_acc       | Accuracy | 0     \n",
            "7 | test_acc      | Accuracy | 0     \n",
            "-------------------------------------------\n",
            "936 K     Trainable params\n",
            "0         Non-trainable params\n",
            "936 K     Total params\n",
            "INFO:lightning:\n",
            "  | Name          | Type     | Params\n",
            "-------------------------------------------\n",
            "0 | model         | MLP      | 936 K \n",
            "1 | model.dropout | Dropout  | 0     \n",
            "2 | model.fc1     | Linear   | 803 K \n",
            "3 | model.fc2     | Linear   | 131 K \n",
            "4 | model.fc3     | Linear   | 1.3 K \n",
            "5 | train_acc     | Accuracy | 0     \n",
            "6 | val_acc       | Accuracy | 0     \n",
            "7 | test_acc      | Accuracy | 0     \n",
            "-------------------------------------------\n",
            "936 K     Trainable params\n",
            "0         Non-trainable params\n",
            "936 K     Total params\n",
            "Epoch 0:  91% 430/470 [00:17<00:01, 24.88it/s, loss=0.214, v_num=0, val_loss=2.33, val_acc=0.0664]\n",
            "Epoch 0:  92% 433/470 [00:17<00:01, 24.98it/s, loss=0.214, v_num=0, val_loss=2.33, val_acc=0.0664]\n",
            "Epoch 0:  93% 438/470 [00:17<00:01, 25.07it/s, loss=0.214, v_num=0, val_loss=2.33, val_acc=0.0664]\n",
            "Validating:  20% 8/40 [00:00<00:00, 36.86it/s]\u001b[A\n",
            "Epoch 0:  94% 443/470 [00:17<00:01, 25.16it/s, loss=0.214, v_num=0, val_loss=2.33, val_acc=0.0664]\n",
            "Epoch 0:  95% 448/470 [00:17<00:00, 25.25it/s, loss=0.214, v_num=0, val_loss=2.33, val_acc=0.0664]\n",
            "Epoch 0:  96% 453/470 [00:17<00:00, 25.33it/s, loss=0.214, v_num=0, val_loss=2.33, val_acc=0.0664]\n",
            "Epoch 0:  97% 458/470 [00:18<00:00, 25.41it/s, loss=0.214, v_num=0, val_loss=2.33, val_acc=0.0664]\n",
            "Validating:  70% 28/40 [00:00<00:00, 36.34it/s]\u001b[A\n",
            "Epoch 0:  99% 463/470 [00:18<00:00, 25.51it/s, loss=0.214, v_num=0, val_loss=2.33, val_acc=0.0664]\n",
            "Epoch 0: 100% 470/470 [00:18<00:00, 25.55it/s, loss=0.214, v_num=0, val_loss=0.162, val_acc=0.953]\n",
            "Epoch 1:  91% 430/470 [00:17<00:01, 23.98it/s, loss=0.165, v_num=0, val_loss=0.162, val_acc=0.953]\n",
            "Validating: 0it [00:00, ?it/s]\u001b[A\n",
            "Epoch 1:  93% 435/470 [00:18<00:01, 24.11it/s, loss=0.165, v_num=0, val_loss=0.162, val_acc=0.953]\n",
            "Epoch 1:  94% 440/470 [00:18<00:01, 24.19it/s, loss=0.165, v_num=0, val_loss=0.162, val_acc=0.953]\n",
            "Epoch 1:  95% 445/470 [00:18<00:01, 24.29it/s, loss=0.165, v_num=0, val_loss=0.162, val_acc=0.953]\n",
            "Epoch 1:  96% 450/470 [00:18<00:00, 24.38it/s, loss=0.165, v_num=0, val_loss=0.162, val_acc=0.953]\n",
            "Validating:  50% 20/40 [00:00<00:00, 36.28it/s]\u001b[A\n",
            "Epoch 1:  97% 455/470 [00:18<00:00, 24.46it/s, loss=0.165, v_num=0, val_loss=0.162, val_acc=0.953]\n",
            "Epoch 1:  98% 460/470 [00:18<00:00, 24.55it/s, loss=0.165, v_num=0, val_loss=0.162, val_acc=0.953]\n",
            "Epoch 1:  99% 465/470 [00:18<00:00, 24.64it/s, loss=0.165, v_num=0, val_loss=0.162, val_acc=0.953]\n",
            "Epoch 1: 100% 470/470 [00:19<00:00, 24.68it/s, loss=0.165, v_num=0, val_loss=0.13, val_acc=0.963] \n",
            "Epoch 2:  91% 430/470 [00:18<00:01, 23.47it/s, loss=0.133, v_num=0, val_loss=0.13, val_acc=0.963]\n",
            "Validating: 0it [00:00, ?it/s]\u001b[A\n",
            "Epoch 2:  93% 435/470 [00:18<00:01, 23.59it/s, loss=0.133, v_num=0, val_loss=0.13, val_acc=0.963]\n",
            "Epoch 2:  94% 440/470 [00:18<00:01, 23.68it/s, loss=0.133, v_num=0, val_loss=0.13, val_acc=0.963]\n",
            "Epoch 2:  95% 445/470 [00:18<00:01, 23.78it/s, loss=0.133, v_num=0, val_loss=0.13, val_acc=0.963]\n",
            "Epoch 2:  96% 450/470 [00:18<00:00, 23.87it/s, loss=0.133, v_num=0, val_loss=0.13, val_acc=0.963]\n",
            "Validating:  50% 20/40 [00:00<00:00, 36.54it/s]\u001b[A\n",
            "Epoch 2:  97% 455/470 [00:18<00:00, 23.97it/s, loss=0.133, v_num=0, val_loss=0.13, val_acc=0.963]\n",
            "Epoch 2:  98% 460/470 [00:19<00:00, 24.06it/s, loss=0.133, v_num=0, val_loss=0.13, val_acc=0.963]\n",
            "Epoch 2:  99% 465/470 [00:19<00:00, 24.14it/s, loss=0.133, v_num=0, val_loss=0.13, val_acc=0.963]\n",
            "Epoch 2: 100% 470/470 [00:19<00:00, 24.18it/s, loss=0.133, v_num=0, val_loss=0.105, val_acc=0.969]\n",
            "Epoch 2: 100% 470/470 [00:19<00:00, 24.15it/s, loss=0.133, v_num=0, val_loss=0.105, val_acc=0.969]\n",
            "Testing: 100% 79/79 [00:02<00:00, 37.27it/s]\n",
            "--------------------------------------------------------------------------------\n",
            "DATALOADER:0 TEST RESULTS\n",
            "{'test_acc': tensor(0.9709)}\n",
            "--------------------------------------------------------------------------------\n"
          ]
        }
      ]
    },
    {
      "cell_type": "code",
      "source": [
        "!python3 training/run_experiment.py --model_class=MLP --data_class=MNIST --max_epochs=5 --gpus=1\n"
      ],
      "metadata": {
        "colab": {
          "base_uri": "https://localhost:8080/"
        },
        "id": "kuYwyuxMGP7S",
        "outputId": "ac31852c-f051-4880-b8eb-6b3002335cd1"
      },
      "execution_count": 10,
      "outputs": [
        {
          "output_type": "stream",
          "name": "stdout",
          "text": [
            "/usr/local/lib/python3.7/dist-packages/pytorch_lightning/utilities/distributed.py:49: UserWarning: You have set progress_bar_refresh_rate < 20 on Google Colab. This may crash. Consider using progress_bar_refresh_rate >= 20 in Trainer.\n",
            "  warnings.warn(*args, **kwargs)\n",
            "GPU available: True, used: True\n",
            "TPU available: None, using: 0 TPU cores\n",
            "LOCAL_RANK: 0 - CUDA_VISIBLE_DEVICES: [0]\n",
            "\n",
            "  | Name          | Type     | Params\n",
            "-------------------------------------------\n",
            "0 | model         | MLP      | 936 K \n",
            "1 | model.dropout | Dropout  | 0     \n",
            "2 | model.fc1     | Linear   | 803 K \n",
            "3 | model.fc2     | Linear   | 131 K \n",
            "4 | model.fc3     | Linear   | 1.3 K \n",
            "5 | train_acc     | Accuracy | 0     \n",
            "6 | val_acc       | Accuracy | 0     \n",
            "7 | test_acc      | Accuracy | 0     \n",
            "-------------------------------------------\n",
            "936 K     Trainable params\n",
            "0         Non-trainable params\n",
            "936 K     Total params\n",
            "INFO:lightning:\n",
            "  | Name          | Type     | Params\n",
            "-------------------------------------------\n",
            "0 | model         | MLP      | 936 K \n",
            "1 | model.dropout | Dropout  | 0     \n",
            "2 | model.fc1     | Linear   | 803 K \n",
            "3 | model.fc2     | Linear   | 131 K \n",
            "4 | model.fc3     | Linear   | 1.3 K \n",
            "5 | train_acc     | Accuracy | 0     \n",
            "6 | val_acc       | Accuracy | 0     \n",
            "7 | test_acc      | Accuracy | 0     \n",
            "-------------------------------------------\n",
            "936 K     Trainable params\n",
            "0         Non-trainable params\n",
            "936 K     Total params\n",
            "Epoch 0:  91% 430/470 [00:11<00:01, 36.87it/s, loss=0.21, v_num=1, val_loss=2.33, val_acc=0.0664] \n",
            "Epoch 0:  93% 435/470 [00:11<00:00, 37.00it/s, loss=0.21, v_num=1, val_loss=2.33, val_acc=0.0664]\n",
            "Validating:  12% 5/40 [00:00<00:00, 43.50it/s]\u001b[A\n",
            "Epoch 0:  94% 442/470 [00:11<00:00, 37.06it/s, loss=0.21, v_num=1, val_loss=2.33, val_acc=0.0664]\n",
            "Epoch 0:  96% 449/470 [00:12<00:00, 37.13it/s, loss=0.21, v_num=1, val_loss=2.33, val_acc=0.0664]\n",
            "Validating:  50% 20/40 [00:00<00:00, 42.34it/s]\u001b[A\n",
            "Epoch 0:  97% 456/470 [00:12<00:00, 37.22it/s, loss=0.21, v_num=1, val_loss=2.33, val_acc=0.0664]\n",
            "Epoch 0:  99% 463/470 [00:12<00:00, 37.28it/s, loss=0.21, v_num=1, val_loss=2.33, val_acc=0.0664]\n",
            "Epoch 0: 100% 470/470 [00:12<00:00, 37.16it/s, loss=0.21, v_num=1, val_loss=0.156, val_acc=0.955]\n",
            "Epoch 1:  91% 430/470 [00:11<00:01, 36.86it/s, loss=0.165, v_num=1, val_loss=0.156, val_acc=0.955]\n",
            "Epoch 1:  92% 434/470 [00:11<00:00, 36.98it/s, loss=0.165, v_num=1, val_loss=0.156, val_acc=0.955]\n",
            "Validating:  12% 5/40 [00:00<00:00, 42.87it/s]\u001b[A\n",
            "Epoch 1:  94% 441/470 [00:11<00:00, 37.04it/s, loss=0.165, v_num=1, val_loss=0.156, val_acc=0.955]\n",
            "Epoch 1:  95% 448/470 [00:12<00:00, 37.12it/s, loss=0.165, v_num=1, val_loss=0.156, val_acc=0.955]\n",
            "Epoch 1:  97% 455/470 [00:12<00:00, 37.16it/s, loss=0.165, v_num=1, val_loss=0.156, val_acc=0.955]\n",
            "Validating:  62% 25/40 [00:00<00:00, 41.28it/s]\u001b[A\n",
            "Epoch 1:  98% 462/470 [00:12<00:00, 37.25it/s, loss=0.165, v_num=1, val_loss=0.156, val_acc=0.955]\n",
            "Epoch 1: 100% 470/470 [00:12<00:00, 37.20it/s, loss=0.165, v_num=1, val_loss=0.112, val_acc=0.969]\n",
            "Epoch 2:  91% 430/470 [00:11<00:01, 36.20it/s, loss=0.128, v_num=1, val_loss=0.112, val_acc=0.969]\n",
            "Epoch 2:  92% 434/470 [00:11<00:00, 36.33it/s, loss=0.128, v_num=1, val_loss=0.112, val_acc=0.969]\n",
            "Validating:  12% 5/40 [00:00<00:00, 41.74it/s]\u001b[A\n",
            "Epoch 2:  94% 441/470 [00:12<00:00, 36.38it/s, loss=0.128, v_num=1, val_loss=0.112, val_acc=0.969]\n",
            "Epoch 2:  95% 448/470 [00:12<00:00, 36.46it/s, loss=0.128, v_num=1, val_loss=0.112, val_acc=0.969]\n",
            "Epoch 2:  97% 455/470 [00:12<00:00, 36.53it/s, loss=0.128, v_num=1, val_loss=0.112, val_acc=0.969]\n",
            "Validating:  62% 25/40 [00:00<00:00, 41.69it/s]\u001b[A\n",
            "Epoch 2:  98% 462/470 [00:12<00:00, 36.60it/s, loss=0.128, v_num=1, val_loss=0.112, val_acc=0.969]\n",
            "Epoch 2: 100% 469/470 [00:12<00:00, 36.67it/s, loss=0.128, v_num=1, val_loss=0.112, val_acc=0.969]\n",
            "Epoch 2: 100% 470/470 [00:12<00:00, 36.53it/s, loss=0.128, v_num=1, val_loss=0.11, val_acc=0.969] \n",
            "Epoch 3:  91% 430/470 [00:11<00:01, 36.34it/s, loss=0.143, v_num=1, val_loss=0.11, val_acc=0.969]\n",
            "Epoch 3:  92% 434/470 [00:11<00:00, 36.45it/s, loss=0.143, v_num=1, val_loss=0.11, val_acc=0.969]\n",
            "Validating:  12% 5/40 [00:00<00:00, 42.39it/s]\u001b[A\n",
            "Epoch 3:  94% 441/470 [00:12<00:00, 36.51it/s, loss=0.143, v_num=1, val_loss=0.11, val_acc=0.969]\n",
            "Epoch 3:  95% 448/470 [00:12<00:00, 36.58it/s, loss=0.143, v_num=1, val_loss=0.11, val_acc=0.969]\n",
            "Epoch 3:  97% 455/470 [00:12<00:00, 36.66it/s, loss=0.143, v_num=1, val_loss=0.11, val_acc=0.969]\n",
            "Validating:  62% 25/40 [00:00<00:00, 41.86it/s]\u001b[A\n",
            "Epoch 3:  98% 462/470 [00:12<00:00, 36.68it/s, loss=0.143, v_num=1, val_loss=0.11, val_acc=0.969]\n",
            "Epoch 3: 100% 469/470 [00:12<00:00, 36.75it/s, loss=0.143, v_num=1, val_loss=0.11, val_acc=0.969]\n",
            "Epoch 3: 100% 470/470 [00:12<00:00, 36.64it/s, loss=0.143, v_num=1, val_loss=0.0905, val_acc=0.975]\n",
            "Epoch 4:  91% 430/470 [00:11<00:01, 36.74it/s, loss=0.12, v_num=1, val_loss=0.0905, val_acc=0.975] \n",
            "Epoch 4:  92% 434/470 [00:11<00:00, 36.87it/s, loss=0.12, v_num=1, val_loss=0.0905, val_acc=0.975]\n",
            "Validating:  12% 5/40 [00:00<00:00, 42.69it/s]\u001b[A\n",
            "Epoch 4:  94% 441/470 [00:11<00:00, 36.91it/s, loss=0.12, v_num=1, val_loss=0.0905, val_acc=0.975]\n",
            "Epoch 4:  95% 448/470 [00:12<00:00, 36.99it/s, loss=0.12, v_num=1, val_loss=0.0905, val_acc=0.975]\n",
            "Epoch 4:  97% 455/470 [00:12<00:00, 37.06it/s, loss=0.12, v_num=1, val_loss=0.0905, val_acc=0.975]\n",
            "Validating:  62% 25/40 [00:00<00:00, 41.91it/s]\u001b[A\n",
            "Epoch 4:  98% 462/470 [00:12<00:00, 37.14it/s, loss=0.12, v_num=1, val_loss=0.0905, val_acc=0.975]\n",
            "Epoch 4: 100% 470/470 [00:12<00:00, 37.07it/s, loss=0.12, v_num=1, val_loss=0.0875, val_acc=0.974]\n",
            "Epoch 4: 100% 470/470 [00:12<00:00, 36.96it/s, loss=0.12, v_num=1, val_loss=0.0875, val_acc=0.974]\n",
            "Testing: 100% 79/79 [00:01<00:00, 43.02it/s]\n",
            "--------------------------------------------------------------------------------\n",
            "DATALOADER:0 TEST RESULTS\n",
            "{'test_acc': tensor(0.9779, device='cuda:0')}\n",
            "--------------------------------------------------------------------------------\n"
          ]
        }
      ]
    },
    {
      "cell_type": "markdown",
      "source": [
        "\n",
        "\n",
        "\n",
        "**Homework**\n",
        "\n",
        "Try training/run_experiment.py with different MLP hyper-parameters (e.g. --fc1=128 --fc2=64).\n",
        "\n",
        "\n"
      ],
      "metadata": {
        "id": "Ns0IuCJVRAgT"
      }
    },
    {
      "cell_type": "code",
      "source": [
        "! python3 training/run_experiment.py --model_class=MLP --data_class=MNIST --max_epochs=5 --gpus=1 --fc1=128 --fc2=64"
      ],
      "metadata": {
        "colab": {
          "base_uri": "https://localhost:8080/"
        },
        "id": "gYmNO2tzNLDg",
        "outputId": "5eeb3cf5-d837-4cca-bcf2-219c7b71a27a"
      },
      "execution_count": 11,
      "outputs": [
        {
          "output_type": "stream",
          "name": "stdout",
          "text": [
            "/usr/local/lib/python3.7/dist-packages/pytorch_lightning/utilities/distributed.py:49: UserWarning: You have set progress_bar_refresh_rate < 20 on Google Colab. This may crash. Consider using progress_bar_refresh_rate >= 20 in Trainer.\n",
            "  warnings.warn(*args, **kwargs)\n",
            "GPU available: True, used: True\n",
            "TPU available: None, using: 0 TPU cores\n",
            "LOCAL_RANK: 0 - CUDA_VISIBLE_DEVICES: [0]\n",
            "\n",
            "  | Name          | Type     | Params\n",
            "-------------------------------------------\n",
            "0 | model         | MLP      | 109 K \n",
            "1 | model.dropout | Dropout  | 0     \n",
            "2 | model.fc1     | Linear   | 100 K \n",
            "3 | model.fc2     | Linear   | 8.3 K \n",
            "4 | model.fc3     | Linear   | 650   \n",
            "5 | train_acc     | Accuracy | 0     \n",
            "6 | val_acc       | Accuracy | 0     \n",
            "7 | test_acc      | Accuracy | 0     \n",
            "-------------------------------------------\n",
            "109 K     Trainable params\n",
            "0         Non-trainable params\n",
            "109 K     Total params\n",
            "INFO:lightning:\n",
            "  | Name          | Type     | Params\n",
            "-------------------------------------------\n",
            "0 | model         | MLP      | 109 K \n",
            "1 | model.dropout | Dropout  | 0     \n",
            "2 | model.fc1     | Linear   | 100 K \n",
            "3 | model.fc2     | Linear   | 8.3 K \n",
            "4 | model.fc3     | Linear   | 650   \n",
            "5 | train_acc     | Accuracy | 0     \n",
            "6 | val_acc       | Accuracy | 0     \n",
            "7 | test_acc      | Accuracy | 0     \n",
            "-------------------------------------------\n",
            "109 K     Trainable params\n",
            "0         Non-trainable params\n",
            "109 K     Total params\n",
            "Epoch 0:  91% 430/470 [00:11<00:01, 36.51it/s, loss=0.39, v_num=2, val_loss=2.31, val_acc=0.145] \n",
            "Epoch 0:  92% 434/470 [00:11<00:00, 36.62it/s, loss=0.39, v_num=2, val_loss=2.31, val_acc=0.145]\n",
            "Validating:  12% 5/40 [00:00<00:00, 42.86it/s]\u001b[A\n",
            "Epoch 0:  94% 441/470 [00:12<00:00, 36.69it/s, loss=0.39, v_num=2, val_loss=2.31, val_acc=0.145]\n",
            "Epoch 0:  95% 448/470 [00:12<00:00, 36.77it/s, loss=0.39, v_num=2, val_loss=2.31, val_acc=0.145]\n",
            "Epoch 0:  97% 455/470 [00:12<00:00, 36.84it/s, loss=0.39, v_num=2, val_loss=2.31, val_acc=0.145]\n",
            "Validating:  62% 25/40 [00:00<00:00, 41.88it/s]\u001b[A\n",
            "Epoch 0:  98% 462/470 [00:12<00:00, 36.93it/s, loss=0.39, v_num=2, val_loss=2.31, val_acc=0.145]\n",
            "Epoch 0: 100% 470/470 [00:12<00:00, 36.92it/s, loss=0.39, v_num=2, val_loss=0.222, val_acc=0.937]\n",
            "Epoch 1:  91% 430/470 [00:11<00:01, 36.56it/s, loss=0.31, v_num=2, val_loss=0.222, val_acc=0.937] \n",
            "Epoch 1:  92% 434/470 [00:11<00:00, 36.69it/s, loss=0.31, v_num=2, val_loss=0.222, val_acc=0.937]\n",
            "Validating:  12% 5/40 [00:00<00:00, 42.56it/s]\u001b[A\n",
            "Epoch 1:  94% 441/470 [00:12<00:00, 36.75it/s, loss=0.31, v_num=2, val_loss=0.222, val_acc=0.937]\n",
            "Epoch 1:  95% 448/470 [00:12<00:00, 36.80it/s, loss=0.31, v_num=2, val_loss=0.222, val_acc=0.937]\n",
            "Epoch 1:  97% 455/470 [00:12<00:00, 36.84it/s, loss=0.31, v_num=2, val_loss=0.222, val_acc=0.937]\n",
            "Validating:  62% 25/40 [00:00<00:00, 40.57it/s]\u001b[A\n",
            "Epoch 1:  98% 462/470 [00:12<00:00, 36.92it/s, loss=0.31, v_num=2, val_loss=0.222, val_acc=0.937]\n",
            "Epoch 1: 100% 470/470 [00:12<00:00, 36.96it/s, loss=0.31, v_num=2, val_loss=0.167, val_acc=0.951]\n",
            "Epoch 2:  91% 430/470 [00:11<00:01, 36.30it/s, loss=0.278, v_num=2, val_loss=0.167, val_acc=0.951]\n",
            "Epoch 2:  92% 434/470 [00:11<00:00, 36.41it/s, loss=0.278, v_num=2, val_loss=0.167, val_acc=0.951]\n",
            "Validating:  12% 5/40 [00:00<00:00, 41.98it/s]\u001b[A\n",
            "Epoch 2:  94% 441/470 [00:12<00:00, 36.50it/s, loss=0.278, v_num=2, val_loss=0.167, val_acc=0.951]\n",
            "Epoch 2:  95% 448/470 [00:12<00:00, 36.57it/s, loss=0.278, v_num=2, val_loss=0.167, val_acc=0.951]\n",
            "Epoch 2:  97% 455/470 [00:12<00:00, 36.66it/s, loss=0.278, v_num=2, val_loss=0.167, val_acc=0.951]\n",
            "Validating:  62% 25/40 [00:00<00:00, 42.49it/s]\u001b[A\n",
            "Epoch 2:  98% 462/470 [00:12<00:00, 36.70it/s, loss=0.278, v_num=2, val_loss=0.167, val_acc=0.951]\n",
            "Epoch 2: 100% 470/470 [00:12<00:00, 36.68it/s, loss=0.278, v_num=2, val_loss=0.147, val_acc=0.957]\n",
            "Epoch 3:  91% 430/470 [00:11<00:01, 36.30it/s, loss=0.297, v_num=2, val_loss=0.147, val_acc=0.957]\n",
            "Epoch 3:  92% 434/470 [00:11<00:00, 36.41it/s, loss=0.297, v_num=2, val_loss=0.147, val_acc=0.957]\n",
            "Validating:  12% 5/40 [00:00<00:00, 42.96it/s]\u001b[A\n",
            "Epoch 3:  94% 441/470 [00:12<00:00, 36.48it/s, loss=0.297, v_num=2, val_loss=0.147, val_acc=0.957]\n",
            "Epoch 3:  95% 448/470 [00:12<00:00, 36.53it/s, loss=0.297, v_num=2, val_loss=0.147, val_acc=0.957]\n",
            "Epoch 3:  97% 455/470 [00:12<00:00, 36.60it/s, loss=0.297, v_num=2, val_loss=0.147, val_acc=0.957]\n",
            "Validating:  62% 25/40 [00:00<00:00, 41.34it/s]\u001b[A\n",
            "Epoch 3:  98% 462/470 [00:12<00:00, 36.68it/s, loss=0.297, v_num=2, val_loss=0.147, val_acc=0.957]\n",
            "Epoch 3: 100% 469/470 [00:12<00:00, 36.73it/s, loss=0.297, v_num=2, val_loss=0.147, val_acc=0.957]\n",
            "Epoch 3: 100% 470/470 [00:12<00:00, 36.70it/s, loss=0.297, v_num=2, val_loss=0.132, val_acc=0.961]\n",
            "Epoch 4:  91% 430/470 [00:11<00:01, 36.50it/s, loss=0.258, v_num=2, val_loss=0.132, val_acc=0.961]\n",
            "Epoch 4:  92% 434/470 [00:11<00:00, 36.62it/s, loss=0.258, v_num=2, val_loss=0.132, val_acc=0.961]\n",
            "Validating:  12% 5/40 [00:00<00:00, 42.39it/s]\u001b[A\n",
            "Epoch 4:  94% 441/470 [00:12<00:00, 36.68it/s, loss=0.258, v_num=2, val_loss=0.132, val_acc=0.961]\n",
            "Epoch 4:  95% 448/470 [00:12<00:00, 36.76it/s, loss=0.258, v_num=2, val_loss=0.132, val_acc=0.961]\n",
            "Epoch 4:  97% 455/470 [00:12<00:00, 36.82it/s, loss=0.258, v_num=2, val_loss=0.132, val_acc=0.961]\n",
            "Validating:  62% 25/40 [00:00<00:00, 41.62it/s]\u001b[A\n",
            "Epoch 4:  98% 462/470 [00:12<00:00, 36.84it/s, loss=0.258, v_num=2, val_loss=0.132, val_acc=0.961]\n",
            "Epoch 4: 100% 470/470 [00:12<00:00, 36.86it/s, loss=0.258, v_num=2, val_loss=0.125, val_acc=0.965]\n",
            "Epoch 4: 100% 470/470 [00:12<00:00, 36.75it/s, loss=0.258, v_num=2, val_loss=0.125, val_acc=0.965]\n",
            "Testing: 100% 79/79 [00:01<00:00, 42.40it/s]\n",
            "--------------------------------------------------------------------------------\n",
            "DATALOADER:0 TEST RESULTS\n",
            "{'test_acc': tensor(0.9625, device='cuda:0')}\n",
            "--------------------------------------------------------------------------------\n"
          ]
        }
      ]
    },
    {
      "cell_type": "code",
      "source": [],
      "metadata": {
        "id": "EJVgjmCKRsgM"
      },
      "execution_count": null,
      "outputs": []
    }
  ]
}